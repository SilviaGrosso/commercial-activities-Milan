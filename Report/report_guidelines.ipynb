{
 "cells": [
  {
   "attachments": {},
   "cell_type": "markdown",
   "metadata": {},
   "source": [
    "## Report Smart Cities"
   ]
  },
  {
   "attachments": {},
   "cell_type": "markdown",
   "metadata": {},
   "source": [
    "### _Part 1: Problem Description and Indicators_\n",
    "\n",
    "- **Select a problem related to smart cities**\n",
    "    \n",
    "    More and more people are relying on delivery apps to buy food, or at best they are going to large supermarkets even at the cost of taking the car; it is also plausible that these short trips create traffic jams on the roads at the times and days of the week preferred by the majority.\n",
    "\n",
    "- **Explain the problem, its importance, and its impact on the city and its inhabitants**\n",
    "\n",
    "    - Delivery of food shopping (lack of appropriate regulations for the work of delivery)\n",
    "    - Large shopping in large supermarkets by car and consequent possible traffic jams\n",
    "    - Crisis of local food retail shops \n",
    "    - Decreased movement, socialisation...  (consider the level of danger / how green the roads are ...)  \n",
    "\n",
    "- **Select or devise one or more indicators to measure the problem and/or the impact of a possible solution. Indicators can include, for example, traffic volume over time, air quality index, energy consumption per capita, waste generation per household, social capital, income.**\n",
    "    \n",
    "    - Traffic volume over time\n",
    "    - Air quality index\n",
    "    - Social Capital (The social capital indicator measures the quantity and quality of social interactions within a community or between individuals. It includes elements such as mutual trust, cooperation, civic participation, social solidarity and networks of relationships.)\n",
    "    - Food Waste generation per market\n",
    "\n",
    "- **Consider the ethical and social implications of the problem and its related indicators.**\n",
    "\n",
    "    - Health and wellbeing indicators\n",
    "    - Social cohesion indicators: Assess the degree of social cohesion and inclusion in the community. They may include measures of civic participation, social involvement, mutual trust, sense of belonging and other metrics that reflect social integration.\n",
    "    - Environmental sustainability indicators\n",
    "    - Corporate Social Responsibility Indicators: Measure the social impact of companies in the community, including aspects such as environmental responsibility, ethical practices, local employment, community involvement and other metrics that reflect companies' commitment to the community.\n",
    "\n",
    "REM: \n",
    "It is obvious that small businesses are also more expensive. but this is also due to the fact that there is no effort to make these equally convenient and accessible as supermarkets or food delivery.\n",
    "An app that would show the citizen, considering my shopping list, a feasible walking distance in a few minutes between several shops might be a preferable choice for some who today perhaps rely on other solutions just because they are more practical.\n",
    "\t\n"
   ]
  },
  {
   "attachments": {},
   "cell_type": "markdown",
   "metadata": {},
   "source": [
    "### _Part 2: Data Analytics, Optimization and Policy Suggestions_\n",
    "\n",
    "- **Identify and select relevant datasets that can be used to analyze the problem.**\n",
    "\n",
    "    - Openstreetmap\n",
    "    - Regione Lombardia\n",
    "\n",
    "- **Clean and wrangle the data as necessary to prepare it for analysis.**\n",
    "- **Use spatial and temporal analysis tools to identify any correlations or patterns in the data.**\n",
    "    - ex: see traffic spatial/time data to find eventual correlation \n",
    "\n",
    "- **Visualize the data using appropriate tools and techniques.** \n",
    "    - maps\n",
    "    - traffic data?\n",
    "\n",
    "- (If the problem requires it, develop a prediction model to estimate future trends and patterns)\n",
    "\n",
    "- (If the problem requires it, develop a classification/clustering model to assign data points to relevant classes)\n",
    "    - big supermarkets: considering a certain radius, which kind of space should they cover?\n",
    "    - same thing for smaller markets\n",
    "    - where each consumer should go in order to avoid car?\n",
    "\n",
    "- **If the problem requires it, develop an optimization model to address the problem, such as an algorithm to assign a population of kids to the most suitable kindergarden considering multiple criteria (distance, school capacity, school facilities…)**\n",
    "    - Possible further step as a specific tool in a new App\n",
    "\n",
    "- **Discuss the main results.** \n",
    "\n",
    "- **Suggest possible new policy or optimizations based on the data analysis to address the problem, such as implementing smart traffic management systems, promoting renewable energy sources, or encouraging recycling.**\n",
    "    - Create App easy-to-use to encourage choice of small local facilities\n",
    "- **Consider the ethical and social implications of the policy suggestions.** \n",
    "    - ethical/social implications\n",
    "    - policy suggestions (Too good to go)"
   ]
  }
 ],
 "metadata": {
  "language_info": {
   "name": "python"
  },
  "orig_nbformat": 4
 },
 "nbformat": 4,
 "nbformat_minor": 2
}
